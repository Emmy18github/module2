{
 "cells": [
  {
   "cell_type": "markdown",
   "metadata": {},
   "source": [
    "## Exercises\n",
    "### Write the pseudocode for these problems. \n",
    "\n",
    "#### Define the problem by constructing an IPO diagram showing input, output, and processing steps\n",
    "Ask yourself\n",
    "- What control structures (sequence, selection and repetition) are required?\n",
    "- What variables are required?\n",
    "\n",
    "Show a check of your solution with **test data** for at least **two valid test cases**\n",
    "If you use the numbers provided in the example then the correct pseudocode will calculate the same result.\n",
    "    "
   ]
  },
  {
   "cell_type": "markdown",
   "metadata": {},
   "source": [
    "#### 1. Find the average score\n",
    "A program is needed to prompt the user operator for exam scores, calculate the average score and display the result to the screen. The average score is calculated as the sum of the scores divided by the number of scores."
   ]
  },
  {
   "cell_type": "markdown",
   "metadata": {},
   "source": [
    "Repetition needed\n",
    "Test Data 1,2,3  total=6, average=2\n",
    "Test Data 4,4,4  total=12, average=4\n",
    "\n",
    "BEGIN\n",
    "    set count to 0\n",
    "    set total to 0\n",
    "    set more_exams = True\n",
    "    Loop Counter until more_exams = False\n",
    "        prompt user for num or exit\n",
    "        get num or exit\n",
    "        if exit\n",
    "            set more_exams = False  (end loop)\n",
    "        else\n",
    "           total += num\n",
    "           count += 1\n",
    "     End Loop\n",
    "     average = total / count\n",
    "     print average\n",
    "END\n"
   ]
  },
  {
   "cell_type": "markdown",
   "metadata": {},
   "source": [
    "#### 2. How much water runs off a roof in a rain storm?\n",
    "To calculate the runoff from any given rainfall: Take the dimensions of the footprint of the roof and convert them to inches. (So, a 50' x 20' roof is 600\" x 240\"). Multiply the roof dimensions by the number of inches of rainfall. As an example, 600\" x 240\" x 1\" = 144,000 cubic inches of water for an inch of rainfall. Divide that result by 231 to get the number of gallons (because 1 gallon = 231 cubic inches). (144,000/231 = 623.38)."
   ]
  },
  {
   "cell_type": "markdown",
   "metadata": {},
   "source": [
    "Sequence needed\n",
    "Test Data = as in code, l_roof = 50, h_roof = 20, rainfall = 1, cubic_in_water = 144,000, gal_of_water = 623.38\n",
    "Test Data =             l_roof = 20, h_roof = 20, rainfall = 2, cubic_in_water = 115,200, gal_of_water = 498.70\n",
    "BEGIN\n",
    "    length_roof = 50\n",
    "    height_roof = 20\n",
    "    convert roof dimensions to inches\n",
    "        length_roof_in = 50 x 12\n",
    "        height_roof_in = 20 x 12\n",
    "        \n",
    "    convert to cubic inches of water\n",
    "        in_of_rainfall = 1\n",
    "        cubic_in_of_water = length_roof_in x height_roof_in x in_of_rainfall\n",
    "        \n",
    "    divide to get number of gallons of water\n",
    "        gallons_of_water = cubic_in_of_water / 231\n",
    "        print gallons_of_water\n",
    "END\n",
    "\n"
   ]
  },
  {
   "cell_type": "markdown",
   "metadata": {},
   "source": [
    "#### 3. Process customer record\n",
    "A program is required to read a customer’s name, a purchase amount and a tax code. The tax code has been validated and will be one of the following: 0 tax exempt (0%) 1 state sales tax only (3%) 2 federal and state sales tax (5%) 3 special sales tax (7%) The program must then compute the sales tax and the total amount due,and print the customer’s name, purchase amount, sales tax and total amount due."
   ]
  },
  {
   "cell_type": "markdown",
   "metadata": {},
   "source": [
    "Selection\n",
    "Test Data Mickey Mouse, $10.00, 1 = Mickey Mouse, $10.00, .03, total_amount = 10.30\n",
    "Test Data Donald Duck,  $10.00, 3 = Donald Duck, $10.00, .07, total_amount = 10.70\n",
    "BEGIN\n",
    "    customer_name = read customer name\n",
    "    purchase_amount = read purchase amount\n",
    "    tax_code = read tax code\n",
    "    if tax_code == 0\n",
    "       tax_amount = .00\n",
    "    elif tax_code == 1\n",
    "       tax_amount = .03\n",
    "    elif tax_code == 2\n",
    "       tax_amount = .05\n",
    "    else tax_amount = .07\n",
    "        \n",
    "    total_amount = purchase_amount * tax_amount\n",
    "    print customer_name\n",
    "    print purchase_amount\n",
    "    print tax_code\n",
    "    print total_amount\n",
    "END\n",
    " \n"
   ]
  },
  {
   "cell_type": "markdown",
   "metadata": {},
   "source": [
    "#### 4. Calculate employee's pay \n",
    "A program is required by a company to read an employee’s number, pay rate and the number of hours worked in a week. The program is then to validate the pay rate field and the hours worked field and, if valid, compute the employee’s weekly pay and then print it and the input data.\n",
    "\n",
    "Validation: According to the company’s rules, the maximum hours an employee can work per week is 60 hours, and the maximum hourly rate is $25.00 per hour. If the hours worked field or the hourly rate field is out of range, the input data and an appropriate message are to be printed and the employee’s weekly pay is not to be calculated.\n",
    "\n",
    "Weekly pay calculation: Weekly pay is calculated as hours worked times pay rate. If more than 35 hours are worked, payment for the overtime hours worked is calculated at time-and-a-half."
   ]
  },
  {
   "cell_type": "markdown",
   "metadata": {},
   "source": [
    "Sequence\n",
    "Test Data employee_num = 001, pay_rate=10.00, number_of_hours 35, total = 35.00\n",
    "Test Data employee_num = 002, pay_rate=50.00, number_of_hours 40, total = 0, Weekly pay not calculated out of range\n",
    "Test Data employee_num = 003, pay_rate=10.00, number_of_hours 40, total = 425 (has 5 hours overtime @ 15.00)\n",
    "BEGIN\n",
    "    employee_num = read employee number\n",
    "    pay_rate = read pay rate\n",
    "    number_of_hours = read number of hours\n",
    "        \n",
    "    if (pay_rate > 25.00 or number_of_hours > 60) or (pay_rate > 25.00 and number_of_hours > 60)\n",
    "        print Weekly pay not calculated, out of range\n",
    "    elif number_of_hours > 35\n",
    "        extra_hours = number of hours - 35\n",
    "        calculate pay\n",
    "        overtime = (pay_rate + pay_rate/2)\n",
    "        total = (35 * pay_rate) + (extra_hours * overtime)\n",
    "    else\n",
    "        total = number_of_hours * pay_rate\n",
    "        \n",
    "    print emp_number\n",
    "    print number_of_hours\n",
    "    print pay_rate\n",
    "    if extra_hours > 0\n",
    "        print pay rate over 35 hours = overtime\n",
    "    print total\n",
    "END\n",
    "        \n"
   ]
  }
 ],
 "metadata": {
  "kernelspec": {
   "display_name": "Python 3",
   "language": "python",
   "name": "python3"
  },
  "language_info": {
   "codemirror_mode": {
    "name": "ipython",
    "version": 3
   },
   "file_extension": ".py",
   "mimetype": "text/x-python",
   "name": "python",
   "nbconvert_exporter": "python",
   "pygments_lexer": "ipython3",
   "version": "3.8.8"
  }
 },
 "nbformat": 4,
 "nbformat_minor": 2
}
